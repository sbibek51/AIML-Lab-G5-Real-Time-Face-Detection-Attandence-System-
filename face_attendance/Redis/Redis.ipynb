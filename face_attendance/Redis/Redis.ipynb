{
 "cells": [
  {
   "cell_type": "code",
   "execution_count": 2,
   "id": "8fa180e4",
   "metadata": {},
   "outputs": [],
   "source": [
    "import redis\n",
    "# more on redis documentation : https://redis.io/docs/"
   ]
  },
  {
   "cell_type": "code",
   "execution_count": 3,
   "id": "d3b46894",
   "metadata": {},
   "outputs": [],
   "source": [
    "hostname = 'redis-13418.c325.us-east-1-4.ec2.cloud.redislabs.com'\n",
    "port = '13418'\n",
    "password = 'IuUBnaQGK79atnDHJpOK9qCgcgO0Xq7V'"
   ]
  },
  {
   "cell_type": "code",
   "execution_count": 4,
   "id": "1cf13bed",
   "metadata": {},
   "outputs": [],
   "source": [
    "r = redis.Redis(host=hostname,\n",
    "               port= port, password=password)"
   ]
  },
  {
   "cell_type": "code",
   "execution_count": 5,
   "id": "b681b43a",
   "metadata": {},
   "outputs": [
    {
     "data": {
      "text/plain": [
       "True"
      ]
     },
     "execution_count": 5,
     "metadata": {},
     "output_type": "execute_result"
    }
   ],
   "source": [
    "# set value on key\n",
    "r.set(name = 'Foo',value ='Bar')"
   ]
  },
  {
   "cell_type": "code",
   "execution_count": 14,
   "id": "7a514a32",
   "metadata": {},
   "outputs": [
    {
     "data": {
      "text/plain": [
       "[b'KEY', b'Foo', b'mylist', b'Message', b'']"
      ]
     },
     "execution_count": 14,
     "metadata": {},
     "output_type": "execute_result"
    }
   ],
   "source": [
    "# retrieve all keys\n",
    "r.keys()"
   ]
  },
  {
   "cell_type": "markdown",
   "id": "1fda4316",
   "metadata": {},
   "source": [
    "# Create redis list"
   ]
  },
  {
   "cell_type": "code",
   "execution_count": 25,
   "id": "a2b20d32",
   "metadata": {},
   "outputs": [
    {
     "data": {
      "text/plain": [
       "5"
      ]
     },
     "execution_count": 25,
     "metadata": {},
     "output_type": "execute_result"
    }
   ],
   "source": [
    "r.lpush('mylist','Left Test Data')"
   ]
  },
  {
   "cell_type": "code",
   "execution_count": 11,
   "id": "748daf46",
   "metadata": {},
   "outputs": [
    {
     "data": {
      "text/plain": [
       "b'value_1'"
      ]
     },
     "execution_count": 11,
     "metadata": {},
     "output_type": "execute_result"
    }
   ],
   "source": [
    "r.lindex(name='mylist',index=0)"
   ]
  },
  {
   "cell_type": "code",
   "execution_count": 26,
   "id": "261f99ff",
   "metadata": {},
   "outputs": [
    {
     "data": {
      "text/plain": [
       "[b'Left Test Data', b'value_1', b'value_1', b'Test Data', b'Left Test Data']"
      ]
     },
     "execution_count": 26,
     "metadata": {},
     "output_type": "execute_result"
    }
   ],
   "source": [
    "# return all values in the given range in given list\n",
    "r.lrange(name='mylist',start=0,end=5)"
   ]
  },
  {
   "cell_type": "code",
   "execution_count": 28,
   "id": "3a6c4355",
   "metadata": {},
   "outputs": [
    {
     "data": {
      "text/plain": [
       "5"
      ]
     },
     "execution_count": 28,
     "metadata": {},
     "output_type": "execute_result"
    }
   ],
   "source": [
    "# print length of list\n",
    "r.llen('mylist')"
   ]
  },
  {
   "cell_type": "code",
   "execution_count": 32,
   "id": "1108fb0a",
   "metadata": {},
   "outputs": [
    {
     "data": {
      "text/plain": [
       "1"
      ]
     },
     "execution_count": 32,
     "metadata": {},
     "output_type": "execute_result"
    }
   ],
   "source": [
    "# return index or position of element in list\n",
    "r.lpos('mylist', value='value_1')"
   ]
  },
  {
   "cell_type": "code",
   "execution_count": 34,
   "id": "8c072714",
   "metadata": {},
   "outputs": [
    {
     "data": {
      "text/plain": [
       "3"
      ]
     },
     "execution_count": 34,
     "metadata": {},
     "output_type": "execute_result"
    }
   ],
   "source": [
    "# slice the list\n",
    "r.ltrim('mylist',start = 0, end=2)\n",
    "r.llen('mylist')"
   ]
  }
 ],
 "metadata": {
  "kernelspec": {
   "display_name": "Python 3 (ipykernel)",
   "language": "python",
   "name": "python3"
  },
  "language_info": {
   "codemirror_mode": {
    "name": "ipython",
    "version": 3
   },
   "file_extension": ".py",
   "mimetype": "text/x-python",
   "name": "python",
   "nbconvert_exporter": "python",
   "pygments_lexer": "ipython3",
   "version": "3.11.5"
  }
 },
 "nbformat": 4,
 "nbformat_minor": 5
}
