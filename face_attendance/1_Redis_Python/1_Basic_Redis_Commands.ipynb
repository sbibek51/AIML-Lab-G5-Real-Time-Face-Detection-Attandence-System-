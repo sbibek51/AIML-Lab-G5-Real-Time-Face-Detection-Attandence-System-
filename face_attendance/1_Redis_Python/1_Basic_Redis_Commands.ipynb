{
 "cells": [
  {
   "cell_type": "code",
   "execution_count": 3,
   "id": "25519a05",
   "metadata": {},
   "outputs": [],
   "source": [
    "#Bibek Shiwakoti\n",
    "# Learning redis commands\n"
   ]
  },
  {
   "cell_type": "code",
   "execution_count": 5,
   "id": "d63c8684",
   "metadata": {},
   "outputs": [
    {
     "name": "stdout",
     "output_type": "stream",
     "text": [
      "Collecting redis"
     ]
    },
    {
     "name": "stderr",
     "output_type": "stream",
     "text": [
      "\n",
      "[notice] A new release of pip available: 22.3.1 -> 24.0\n",
      "[notice] To update, run: C:\\Users\\TravelMate\\AppData\\Local\\Programs\\Python\\Python311\\python.exe -m pip install --upgrade pip\n"
     ]
    },
    {
     "name": "stdout",
     "output_type": "stream",
     "text": [
      "\n",
      "  Downloading redis-5.0.1-py3-none-any.whl (250 kB)\n",
      "     -------------------------------------- 250.3/250.3 kB 5.1 MB/s eta 0:00:00\n",
      "Installing collected packages: redis\n",
      "Successfully installed redis-5.0.1\n"
     ]
    }
   ],
   "source": [
    "# import sys\n",
    "# !{sys.executable} -m pip install redis"
   ]
  },
  {
   "cell_type": "code",
   "execution_count": 7,
   "id": "a07c2800",
   "metadata": {},
   "outputs": [],
   "source": [
    "import redis"
   ]
  },
  {
   "cell_type": "code",
   "execution_count": 9,
   "id": "344c8e1e",
   "metadata": {},
   "outputs": [],
   "source": [
    "\n",
    "hostname = 'redis-13202.c251.east-us-mz.azure.cloud.redislabs.com'\n",
    "port =13202\n",
    "password= 'HZyi9HeBg1WZbw1uLstld28GvRbkbr4W'\n",
    "r = redis.Redis(\n",
    "    host =hostname,\n",
    "    port =port,\n",
    "    password =password\n",
    ")"
   ]
  },
  {
   "cell_type": "markdown",
   "id": "e3677285",
   "metadata": {},
   "source": [
    "## REDIS Strings\n",
    "- get \n",
    "- set\n",
    "- append"
   ]
  },
  {
   "cell_type": "code",
   "execution_count": 10,
   "id": "16dbf5e9",
   "metadata": {},
   "outputs": [
    {
     "data": {
      "text/plain": [
       "True"
      ]
     },
     "execution_count": 10,
     "metadata": {},
     "output_type": "execute_result"
    }
   ],
   "source": [
    "r.set(name ='foo' , value ='bar')"
   ]
  },
  {
   "cell_type": "code",
   "execution_count": 12,
   "id": "95edf124",
   "metadata": {},
   "outputs": [
    {
     "data": {
      "text/plain": [
       "b'bar'"
      ]
     },
     "execution_count": 12,
     "metadata": {},
     "output_type": "execute_result"
    }
   ],
   "source": [
    "r.get(name='foo')"
   ]
  },
  {
   "cell_type": "code",
   "execution_count": 13,
   "id": "262ccb7b",
   "metadata": {},
   "outputs": [
    {
     "data": {
      "text/plain": [
       "[b'herald',\n",
       " b'foo',\n",
       " b'key',\n",
       " b'HELSINKI',\n",
       " b'MSG',\n",
       " b'mykey1',\n",
       " b'message',\n",
       " b'mykey3']"
      ]
     },
     "execution_count": 13,
     "metadata": {},
     "output_type": "execute_result"
    }
   ],
   "source": [
    "r.keys()"
   ]
  },
  {
   "cell_type": "code",
   "execution_count": null,
   "id": "13679887",
   "metadata": {},
   "outputs": [],
   "source": []
  }
 ],
 "metadata": {
  "kernelspec": {
   "display_name": "Python 3 (ipykernel)",
   "language": "python",
   "name": "python3"
  },
  "language_info": {
   "codemirror_mode": {
    "name": "ipython",
    "version": 3
   },
   "file_extension": ".py",
   "mimetype": "text/x-python",
   "name": "python",
   "nbconvert_exporter": "python",
   "pygments_lexer": "ipython3",
   "version": "3.11.3"
  }
 },
 "nbformat": 4,
 "nbformat_minor": 5
}
