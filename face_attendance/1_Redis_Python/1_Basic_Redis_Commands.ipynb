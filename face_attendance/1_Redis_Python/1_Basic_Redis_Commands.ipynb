{
 "cells": [
  {
   "cell_type": "code",
   "execution_count": 11,
   "id": "25519a05",
   "metadata": {},
   "outputs": [],
   "source": [
    "#Bibek Shiwakoti\n",
    "# Learning redis commands\n"
   ]
  },
  {
   "cell_type": "code",
   "execution_count": 2,
   "id": "d63c8684",
   "metadata": {},
   "outputs": [],
   "source": [
    "# import sys\n",
    "# !{sys.executable} -m pip install redis"
   ]
  },
  {
   "cell_type": "code",
   "execution_count": 12,
   "id": "a07c2800",
   "metadata": {},
   "outputs": [
    {
     "ename": "ModuleNotFoundError",
     "evalue": "No module named 'redis'",
     "output_type": "error",
     "traceback": [
      "\u001b[1;31m---------------------------------------------------------------------------\u001b[0m",
      "\u001b[1;31mModuleNotFoundError\u001b[0m                       Traceback (most recent call last)",
      "Cell \u001b[1;32mIn[12], line 1\u001b[0m\n\u001b[1;32m----> 1\u001b[0m \u001b[38;5;28;01mimport\u001b[39;00m \u001b[38;5;21;01mredis\u001b[39;00m\n",
      "\u001b[1;31mModuleNotFoundError\u001b[0m: No module named 'redis'"
     ]
    }
   ],
   "source": [
    "import redis"
   ]
  },
  {
   "cell_type": "code",
   "execution_count": 8,
   "id": "344c8e1e",
   "metadata": {},
   "outputs": [
    {
     "ename": "NameError",
     "evalue": "name 'redis' is not defined",
     "output_type": "error",
     "traceback": [
      "\u001b[1;31m---------------------------------------------------------------------------\u001b[0m",
      "\u001b[1;31mNameError\u001b[0m                                 Traceback (most recent call last)",
      "Cell \u001b[1;32mIn[8], line 4\u001b[0m\n\u001b[0;32m      2\u001b[0m port \u001b[38;5;241m=\u001b[39m\u001b[38;5;241m13202\u001b[39m\n\u001b[0;32m      3\u001b[0m password\u001b[38;5;241m=\u001b[39m \u001b[38;5;124m'\u001b[39m\u001b[38;5;124mHZyi9HeBg1WZbw1uLstld28GvRbkbr4W\u001b[39m\u001b[38;5;124m'\u001b[39m\n\u001b[1;32m----> 4\u001b[0m r \u001b[38;5;241m=\u001b[39m \u001b[43mredis\u001b[49m\u001b[38;5;241m.\u001b[39mRedis(\n\u001b[0;32m      5\u001b[0m     host \u001b[38;5;241m=\u001b[39mhostname,\n\u001b[0;32m      6\u001b[0m     port \u001b[38;5;241m=\u001b[39mport,\n\u001b[0;32m      7\u001b[0m     password \u001b[38;5;241m=\u001b[39mpassword\n\u001b[0;32m      8\u001b[0m )\n",
      "\u001b[1;31mNameError\u001b[0m: name 'redis' is not defined"
     ]
    }
   ],
   "source": [
    "\n",
    "hostname = 'redis-13202.c251.east-us-mz.azure.cloud.redislabs.com'\n",
    "port =13202\n",
    "password= 'HZyi9HeBg1WZbw1uLstld28GvRbkbr4W'\n",
    "r = redis.Redis(\n",
    "    host =hostname,\n",
    "    port =port,\n",
    "    password =password\n",
    ")"
   ]
  },
  {
   "cell_type": "markdown",
   "id": "e3677285",
   "metadata": {},
   "source": [
    "## REDIS Strings\n",
    "- get \n",
    "- set\n",
    "- append"
   ]
  },
  {
   "cell_type": "code",
   "execution_count": 10,
   "id": "16dbf5e9",
   "metadata": {},
   "outputs": [
    {
     "data": {
      "text/plain": [
       "True"
      ]
     },
     "execution_count": 10,
     "metadata": {},
     "output_type": "execute_result"
    }
   ],
   "source": [
    "r.set(name ='foo' , value ='bar')"
   ]
  },
  {
   "cell_type": "code",
   "execution_count": 12,
   "id": "95edf124",
   "metadata": {},
   "outputs": [
    {
     "data": {
      "text/plain": [
       "b'bar'"
      ]
     },
     "execution_count": 12,
     "metadata": {},
     "output_type": "execute_result"
    }
   ],
   "source": [
    "r.get(name='foo')"
   ]
  },
  {
   "cell_type": "code",
   "execution_count": 13,
   "id": "262ccb7b",
   "metadata": {},
   "outputs": [
    {
     "data": {
      "text/plain": [
       "[b'herald',\n",
       " b'foo',\n",
       " b'key',\n",
       " b'HELSINKI',\n",
       " b'MSG',\n",
       " b'mykey1',\n",
       " b'message',\n",
       " b'mykey3']"
      ]
     },
     "execution_count": 13,
     "metadata": {},
     "output_type": "execute_result"
    }
   ],
   "source": [
    "r.keys()"
   ]
  },
  {
   "cell_type": "code",
   "execution_count": null,
   "id": "13679887",
   "metadata": {},
   "outputs": [],
   "source": []
  }
 ],
 "metadata": {
  "kernelspec": {
   "display_name": "Python 3 (ipykernel)",
   "language": "python",
   "name": "python3"
  },
  "language_info": {
   "codemirror_mode": {
    "name": "ipython",
    "version": 3
   },
   "file_extension": ".py",
   "mimetype": "text/x-python",
   "name": "python",
   "nbconvert_exporter": "python",
   "pygments_lexer": "ipython3",
   "version": "3.10.9"
  }
 },
 "nbformat": 4,
 "nbformat_minor": 5
}
