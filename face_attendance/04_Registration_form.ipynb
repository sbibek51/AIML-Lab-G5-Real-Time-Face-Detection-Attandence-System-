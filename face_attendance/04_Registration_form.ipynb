{
 "cells": [
  {
   "cell_type": "code",
   "execution_count": 44,
   "id": "01ea36e6",
   "metadata": {},
   "outputs": [],
   "source": [
    "import cv2\n",
    "import redis\n",
    "import numpy as np\n",
    "from insightface.app import FaceAnalysis"
   ]
  },
  {
   "cell_type": "code",
   "execution_count": 45,
   "id": "42c45de4",
   "metadata": {},
   "outputs": [],
   "source": [
    "hostname = 'redis-12466.c267.us-east-1-4.ec2.cloud.redislabs.com'\n",
    "port = '12466'\n",
    "password = 'IuUBnaQGK79atnDHJpOK9qCgcgO0Xq7V'"
   ]
  },
  {
   "cell_type": "code",
   "execution_count": 46,
   "id": "62461445",
   "metadata": {},
   "outputs": [],
   "source": [
    "r = redis.StrictRedis(host=hostname,\n",
    "               port= port, password=password)"
   ]
  },
  {
   "cell_type": "code",
   "execution_count": 47,
   "id": "6259b8d2",
   "metadata": {},
   "outputs": [
    {
     "data": {
      "text/plain": [
       "True"
      ]
     },
     "execution_count": 47,
     "metadata": {},
     "output_type": "execute_result"
    }
   ],
   "source": [
    "r.ping()"
   ]
  },
  {
   "cell_type": "code",
   "execution_count": 48,
   "id": "e88d5bcf",
   "metadata": {},
   "outputs": [
    {
     "name": "stdout",
     "output_type": "stream",
     "text": [
      "Applied providers: ['CPUExecutionProvider'], with options: {'CPUExecutionProvider': {}}\n",
      "find model: C:\\Users\\umesh/.insightface\\models\\buffalo_sc\\det_500m.onnx detection [1, 3, '?', '?'] 127.5 128.0\n",
      "Applied providers: ['CPUExecutionProvider'], with options: {'CPUExecutionProvider': {}}\n",
      "find model: C:\\Users\\umesh/.insightface\\models\\buffalo_sc\\w600k_mbf.onnx recognition ['None', 3, 112, 112] 127.5 127.5\n",
      "set det-size: (640, 640)\n"
     ]
    }
   ],
   "source": [
    "app_sc = FaceAnalysis(name='buffalo_sc',providers=['CPUExecutionProvider'])\n",
    "app_sc.prepare(ctx_id=0,det_size=(640,640))"
   ]
  },
  {
   "cell_type": "markdown",
   "id": "bf2dd551",
   "metadata": {},
   "source": [
    "Step 1 : Collect Person data and role"
   ]
  },
  {
   "cell_type": "code",
   "execution_count": 49,
   "id": "924d9f13",
   "metadata": {},
   "outputs": [
    {
     "name": "stdout",
     "output_type": "stream",
     "text": [
      "Enter your name : Umesh Khatiwada\n",
      "\n",
      "    Please choose role\n",
      "    1. Student\n",
      "    2. Teacher\n",
      "    Enter 1 for Teacher and 2 for Student\n",
      "    2\n"
     ]
    }
   ],
   "source": [
    "person_name = input(\"Enter your name : \")\n",
    "retry = 3\n",
    "for i in range(retry):\n",
    "    role= input(\"\"\"\n",
    "    Please choose role\n",
    "    1. Student\n",
    "    2. Teacher\n",
    "    Enter 1 for Teacher and 2 for Student\n",
    "    \"\"\")\n",
    "    if role in ('1','2'):\n",
    "        if role == '1':\n",
    "            role = 'Student'\n",
    "        else:\n",
    "            role == 'Teacher'\n",
    "            \n",
    "        break   \n",
    "    else:\n",
    "        print(\"Invalid entry\")\n",
    "        retry -= 1\n",
    "else:\n",
    "    print(\"Maximum Attempts exceeded\")"
   ]
  },
  {
   "cell_type": "code",
   "execution_count": 50,
   "id": "deb170e9",
   "metadata": {},
   "outputs": [
    {
     "name": "stdout",
     "output_type": "stream",
     "text": [
      "Name : Umesh Khatiwada and Role:2\n"
     ]
    }
   ],
   "source": [
    "name_role_dict = {'1' : 'teacher', '2': 'student'}\n",
    "print(f\"Name : {person_name} and Role:{role}\")\n",
    "person_name = '_'.join(person_name.lower().split(' '))\n",
    "name_role= f'{person_name}#{name_role_dict[role]}'\n"
   ]
  },
  {
   "cell_type": "markdown",
   "id": "32ed6874",
   "metadata": {},
   "source": [
    "Step 2: Collect Samples"
   ]
  },
  {
   "cell_type": "code",
   "execution_count": 51,
   "id": "16692219",
   "metadata": {},
   "outputs": [],
   "source": [
    "\n",
    "# define a video capture object \n",
    "vid = cv2.VideoCapture(0) \n",
    "face_embeddings = []\n",
    "training_data_number = 0\n",
    "while(True): \n",
    "      \n",
    "    # Capture the video frame by frame \n",
    "    ret, frame = vid.read() \n",
    "    if ret == False:\n",
    "        print(\"Unable to read camera\")\n",
    "        break\n",
    "        \n",
    "    results = app_sc.get(frame, max_num=1)\n",
    "    \n",
    "    for result in results:\n",
    "        x1,y1,x2,y2 = result['bbox'].astype(int)\n",
    "        cv2.rectangle(frame, (x1,y1),(x2,y2), (0,255,0),1)\n",
    "        face_data = result['embedding']\n",
    "        face_embeddings.append(face_data)\n",
    "        training_data_number += 1\n",
    "    \n",
    "    # we just want 200 training frames per person for training\n",
    "    if (training_data_number == 200):\n",
    "        break\n",
    "        \n",
    "  \n",
    "    # Display the resulting frame \n",
    "    cv2.imshow('frame', frame) \n",
    "      \n",
    "    # the 'q' button is set as the \n",
    "    # quitting button you may use any \n",
    "    # desired button of your choice \n",
    "    if cv2.waitKey(1) == ord('q'): \n",
    "        break\n",
    "  \n",
    "# After the loop release the cap object \n",
    "vid.release() \n",
    "# Destroy all the windows \n",
    "cv2.destroyAllWindows()"
   ]
  },
  {
   "cell_type": "code",
   "execution_count": 52,
   "id": "3fbbbbf1",
   "metadata": {},
   "outputs": [
    {
     "data": {
      "text/plain": [
       "200"
      ]
     },
     "execution_count": 52,
     "metadata": {},
     "output_type": "execute_result"
    }
   ],
   "source": [
    "len(face_embeddings)"
   ]
  },
  {
   "cell_type": "markdown",
   "id": "db9e4ac6",
   "metadata": {},
   "source": [
    "Step 3: Optimize Data and save in Redis database"
   ]
  },
  {
   "cell_type": "code",
   "execution_count": 53,
   "id": "894fb431",
   "metadata": {},
   "outputs": [
    {
     "data": {
      "text/plain": [
       "(200, 512)"
      ]
     },
     "execution_count": 53,
     "metadata": {},
     "output_type": "execute_result"
    }
   ],
   "source": [
    "# convert list to numpy array\n",
    "face_data = np.asarray(face_embeddings)\n",
    "face_data.shape"
   ]
  },
  {
   "cell_type": "code",
   "execution_count": 54,
   "id": "743bb6a4",
   "metadata": {},
   "outputs": [],
   "source": [
    "# save only single row of  facial feature which contains 512 facial embeddings \n",
    "# obtained as the average of 200 frames we captured earlier\n",
    "face_data_mean = face_data.mean(axis=0)"
   ]
  },
  {
   "cell_type": "code",
   "execution_count": 55,
   "id": "a9b15bc9",
   "metadata": {},
   "outputs": [],
   "source": [
    "# convert the data to bytes to save to redis\n",
    "face_data_byte_encoded = face_data_mean.tobytes()"
   ]
  },
  {
   "cell_type": "code",
   "execution_count": 56,
   "id": "0f3053d5",
   "metadata": {},
   "outputs": [
    {
     "data": {
      "text/plain": [
       "1"
      ]
     },
     "execution_count": 56,
     "metadata": {},
     "output_type": "execute_result"
    }
   ],
   "source": [
    "# save data to redis and associate with the key (username#role)\n",
    "# 'school:register' is the hash name , refer to earlier document for \n",
    "r.hset(name='school:register', key = name_role, value= face_data_byte_encoded)"
   ]
  },
  {
   "cell_type": "code",
   "execution_count": null,
   "id": "5aea0147",
   "metadata": {},
   "outputs": [],
   "source": []
  }
 ],
 "metadata": {
  "kernelspec": {
   "display_name": "Python 3 (ipykernel)",
   "language": "python",
   "name": "python3"
  },
  "language_info": {
   "codemirror_mode": {
    "name": "ipython",
    "version": 3
   },
   "file_extension": ".py",
   "mimetype": "text/x-python",
   "name": "python",
   "nbconvert_exporter": "python",
   "pygments_lexer": "ipython3",
   "version": "3.11.5"
  }
 },
 "nbformat": 4,
 "nbformat_minor": 5
}
