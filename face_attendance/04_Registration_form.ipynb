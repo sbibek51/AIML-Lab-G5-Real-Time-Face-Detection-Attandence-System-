{
 "cells": [
  {
   "cell_type": "code",
   "execution_count": 2,
   "id": "01ea36e6",
   "metadata": {},
   "outputs": [],
   "source": [
    "import cv2\n",
    "import numpy as np\n",
    "from insightface.app import FaceAnalysis"
   ]
  },
  {
   "cell_type": "code",
   "execution_count": 4,
   "id": "e88d5bcf",
   "metadata": {},
   "outputs": [
    {
     "name": "stdout",
     "output_type": "stream",
     "text": [
      "Applied providers: ['CPUExecutionProvider'], with options: {'CPUExecutionProvider': {}}\n",
      "find model: C:\\Users\\umesh/.insightface\\models\\buffalo_sc\\det_500m.onnx detection [1, 3, '?', '?'] 127.5 128.0\n",
      "Applied providers: ['CPUExecutionProvider'], with options: {'CPUExecutionProvider': {}}\n",
      "find model: C:\\Users\\umesh/.insightface\\models\\buffalo_sc\\w600k_mbf.onnx recognition ['None', 3, 112, 112] 127.5 127.5\n",
      "set det-size: (640, 640)\n"
     ]
    }
   ],
   "source": [
    "app_sc = FaceAnalysis(name='buffalo_sc',providers=['CPUExecutionProvider'])\n",
    "app_sc.prepare(ctx_id=0,det_size=(640,640))"
   ]
  },
  {
   "cell_type": "markdown",
   "id": "bf2dd551",
   "metadata": {},
   "source": [
    "Step 1 : Collect Person data and role"
   ]
  },
  {
   "cell_type": "code",
   "execution_count": 18,
   "id": "43dbbd4a",
   "metadata": {},
   "outputs": [
    {
     "name": "stdout",
     "output_type": "stream",
     "text": [
      "Enter your name : Ram\n",
      "\n",
      "    Please choose role\n",
      "    1. Student\n",
      "    2. Teacher\n",
      "    Enter 1 for Teacher and 2 for Student\n",
      "    1\n"
     ]
    }
   ],
   "source": [
    "person_name = input(\"Enter your name : \")\n",
    "retry = 3\n",
    "for i in range(retry):\n",
    "    role= input(\"\"\"\n",
    "    Please choose role\n",
    "    1. Student\n",
    "    2. Teacher\n",
    "    Enter 1 for Teacher and 2 for Student\n",
    "    \"\"\")\n",
    "    if role in ('1','2'):\n",
    "        if role == '1':\n",
    "            role = 'Student'\n",
    "        else:\n",
    "            role == 'Teacher'\n",
    "            \n",
    "        break   \n",
    "    else:\n",
    "        print(\"Invalid entry\")\n",
    "        retry -= 1\n",
    "else:\n",
    "    print(\"Maximum Attempts exceeded\")"
   ]
  },
  {
   "cell_type": "code",
   "execution_count": 19,
   "id": "41a6e576",
   "metadata": {},
   "outputs": [
    {
     "name": "stdout",
     "output_type": "stream",
     "text": [
      "Name : Ram and Role: Student\n"
     ]
    }
   ],
   "source": [
    "print(f\"Name : {person_name} and Role:{role}\")"
   ]
  },
  {
   "cell_type": "markdown",
   "id": "32ed6874",
   "metadata": {},
   "source": [
    "Step 2: Collect Samples"
   ]
  },
  {
   "cell_type": "code",
   "execution_count": 21,
   "id": "c7b51c5d",
   "metadata": {},
   "outputs": [],
   "source": [
    "# define a video capture object \n",
    "vid = cv2.VideoCapture(0) \n",
    "  \n",
    "while(True): \n",
    "      \n",
    "    # Capture the video frame \n",
    "    # by frame \n",
    "    ret, frame = vid.read() \n",
    "  \n",
    "    # Display the resulting frame \n",
    "    cv2.imshow('frame', frame) \n",
    "      \n",
    "    # the 'q' button is set as the \n",
    "    # quitting button you may use any \n",
    "    # desired button of your choice \n",
    "    if cv2.waitKey(1) == ord('q'): \n",
    "        break\n",
    "  \n",
    "# After the loop release the cap object \n",
    "vid.release() \n",
    "# Destroy all the windows \n",
    "cv2.destroyAllWindows() q"
   ]
  },
  {
   "cell_type": "markdown",
   "id": "db9e4ac6",
   "metadata": {},
   "source": [
    "Step 3: Optimize Data and save in Redis database"
   ]
  },
  {
   "cell_type": "code",
   "execution_count": null,
   "id": "894fb431",
   "metadata": {},
   "outputs": [],
   "source": []
  }
 ],
 "metadata": {
  "kernelspec": {
   "display_name": "Python 3 (ipykernel)",
   "language": "python",
   "name": "python3"
  },
  "language_info": {
   "codemirror_mode": {
    "name": "ipython",
    "version": 3
   },
   "file_extension": ".py",
   "mimetype": "text/x-python",
   "name": "python",
   "nbconvert_exporter": "python",
   "pygments_lexer": "ipython3",
   "version": "3.11.5"
  }
 },
 "nbformat": 4,
 "nbformat_minor": 5
}
