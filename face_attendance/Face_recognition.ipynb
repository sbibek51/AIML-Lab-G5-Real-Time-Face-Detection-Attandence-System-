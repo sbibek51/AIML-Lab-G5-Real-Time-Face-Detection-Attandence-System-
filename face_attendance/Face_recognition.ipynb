{
 "cells": [
  {
   "cell_type": "code",
   "execution_count": 3,
   "id": "6199abc7",
   "metadata": {},
   "outputs": [],
   "source": [
    "import os\n",
    "import cv2\n",
    "import numpy as np\n",
    "import pandas as pd\n",
    "import insightface\n",
    "from insightface.app import FaceAnalysis\n",
    "from insightface.data import get_image as ins_get_image"
   ]
  },
  {
   "cell_type": "code",
   "execution_count": 4,
   "id": "f1230c7e",
   "metadata": {},
   "outputs": [
    {
     "name": "stdout",
     "output_type": "stream",
     "text": [
      "Applied providers: ['CPUExecutionProvider'], with options: {'CPUExecutionProvider': {}}\n",
      "find model: C:\\Users\\umesh/.insightface\\models\\buffalo_sc\\det_500m.onnx detection [1, 3, '?', '?'] 127.5 128.0\n",
      "Applied providers: ['CPUExecutionProvider'], with options: {'CPUExecutionProvider': {}}\n",
      "find model: C:\\Users\\umesh/.insightface\\models\\buffalo_sc\\w600k_mbf.onnx recognition ['None', 3, 112, 112] 127.5 127.5\n",
      "set det-size: (640, 640)\n"
     ]
    }
   ],
   "source": [
    "app_sc = FaceAnalysis(name='buffalo_sc',providers=['CPUExecutionProvider'])\n",
    "app_sc.prepare(ctx_id=0,det_size=(640,640))"
   ]
  },
  {
   "cell_type": "markdown",
   "id": "2a634a9e",
   "metadata": {},
   "source": [
    "# Extract facial features and labels"
   ]
  },
  {
   "cell_type": "code",
   "execution_count": 10,
   "id": "db0ba504",
   "metadata": {},
   "outputs": [],
   "source": [
    "img_folders = os.listdir(path='./school_images/')"
   ]
  },
  {
   "cell_type": "code",
   "execution_count": 40,
   "id": "7375e9b8",
   "metadata": {},
   "outputs": [],
   "source": [
    "# extract path for each folder and file for training the ml \n",
    "individual_info = [] # format [Name, Role, Facial_embedding]\n",
    "for img_folder in img_folders:\n",
    "    role, name = img_folder.split('-')\n",
    "    img_files = os.listdir(path=f'./school_images/{img_folder}')\n",
    "    for image in img_files:\n",
    "        file_path = f'./school_images/{img_folder}/{image}'\n",
    "        # read the image\n",
    "        image = cv2.imread(file_path)\n",
    "        \n",
    "        # get the info\n",
    "        # read only one one image at a time\n",
    "        result = app_sc.get(image,max_num=1)\n",
    "        \n",
    "        # facial data is returned as list, if we dont have any data in list, we have some error\n",
    "        if len(result)>0:\n",
    "            \n",
    "            # extract facial embeddings\n",
    "            individual_info.append([name, role, result[0]['embedding']])"
   ]
  },
  {
   "cell_type": "code",
   "execution_count": 41,
   "id": "6744035e",
   "metadata": {},
   "outputs": [],
   "source": [
    "# viewing the data in list is difficult\n",
    "# create pandas dataframe for easy representation\n",
    "df = pd.DataFrame(individual_info,columns=['Name', 'Role','Facial Features'])"
   ]
  },
  {
   "cell_type": "code",
   "execution_count": 47,
   "id": "5811ebd4",
   "metadata": {},
   "outputs": [
    {
     "data": {
      "text/html": [
       "<div>\n",
       "<style scoped>\n",
       "    .dataframe tbody tr th:only-of-type {\n",
       "        vertical-align: middle;\n",
       "    }\n",
       "\n",
       "    .dataframe tbody tr th {\n",
       "        vertical-align: top;\n",
       "    }\n",
       "\n",
       "    .dataframe thead th {\n",
       "        text-align: right;\n",
       "    }\n",
       "</style>\n",
       "<table border=\"1\" class=\"dataframe\">\n",
       "  <thead>\n",
       "    <tr style=\"text-align: right;\">\n",
       "      <th></th>\n",
       "      <th>Name</th>\n",
       "      <th>Role</th>\n",
       "      <th>Facial Features</th>\n",
       "    </tr>\n",
       "  </thead>\n",
       "  <tbody>\n",
       "    <tr>\n",
       "      <th>0</th>\n",
       "      <td>Angelina Jolie</td>\n",
       "      <td>student</td>\n",
       "      <td>[-0.84095865, 1.6623069, -0.74577826, -2.13812...</td>\n",
       "    </tr>\n",
       "    <tr>\n",
       "      <th>1</th>\n",
       "      <td>Angelina Jolie</td>\n",
       "      <td>student</td>\n",
       "      <td>[0.09012404, -0.4169108, -0.37650695, 0.424011...</td>\n",
       "    </tr>\n",
       "    <tr>\n",
       "      <th>2</th>\n",
       "      <td>Angelina Jolie</td>\n",
       "      <td>student</td>\n",
       "      <td>[0.8638505, 0.32971108, 0.05772102, -1.4537901...</td>\n",
       "    </tr>\n",
       "    <tr>\n",
       "      <th>3</th>\n",
       "      <td>Angelina Jolie</td>\n",
       "      <td>student</td>\n",
       "      <td>[1.6611172, 1.1610862, -0.41079235, -2.6411536...</td>\n",
       "    </tr>\n",
       "    <tr>\n",
       "      <th>4</th>\n",
       "      <td>Angelina Jolie</td>\n",
       "      <td>student</td>\n",
       "      <td>[0.864314, 0.9437618, 0.4265172, -1.1836909, -...</td>\n",
       "    </tr>\n",
       "  </tbody>\n",
       "</table>\n",
       "</div>"
      ],
      "text/plain": [
       "             Name     Role                                    Facial Features\n",
       "0  Angelina Jolie  student  [-0.84095865, 1.6623069, -0.74577826, -2.13812...\n",
       "1  Angelina Jolie  student  [0.09012404, -0.4169108, -0.37650695, 0.424011...\n",
       "2  Angelina Jolie  student  [0.8638505, 0.32971108, 0.05772102, -1.4537901...\n",
       "3  Angelina Jolie  student  [1.6611172, 1.1610862, -0.41079235, -2.6411536...\n",
       "4  Angelina Jolie  student  [0.864314, 0.9437618, 0.4265172, -1.1836909, -..."
      ]
     },
     "execution_count": 47,
     "metadata": {},
     "output_type": "execute_result"
    }
   ],
   "source": [
    "df.head(5)"
   ]
  },
  {
   "cell_type": "code",
   "execution_count": 49,
   "id": "b81ef363",
   "metadata": {},
   "outputs": [
    {
     "data": {
      "text/html": [
       "<div>\n",
       "<style scoped>\n",
       "    .dataframe tbody tr th:only-of-type {\n",
       "        vertical-align: middle;\n",
       "    }\n",
       "\n",
       "    .dataframe tbody tr th {\n",
       "        vertical-align: top;\n",
       "    }\n",
       "\n",
       "    .dataframe thead th {\n",
       "        text-align: right;\n",
       "    }\n",
       "</style>\n",
       "<table border=\"1\" class=\"dataframe\">\n",
       "  <thead>\n",
       "    <tr style=\"text-align: right;\">\n",
       "      <th></th>\n",
       "      <th>Name</th>\n",
       "      <th>Role</th>\n",
       "      <th>Facial Features</th>\n",
       "    </tr>\n",
       "  </thead>\n",
       "  <tbody>\n",
       "    <tr>\n",
       "      <th>45</th>\n",
       "      <td>Morgan_Freeman</td>\n",
       "      <td>teacher</td>\n",
       "      <td>[-0.27514642, -0.275059, -0.8417722, 1.2798201...</td>\n",
       "    </tr>\n",
       "    <tr>\n",
       "      <th>46</th>\n",
       "      <td>Morgan_Freeman</td>\n",
       "      <td>teacher</td>\n",
       "      <td>[0.7716732, -0.6371075, 0.1712926, 0.55135304,...</td>\n",
       "    </tr>\n",
       "    <tr>\n",
       "      <th>47</th>\n",
       "      <td>Morgan_Freeman</td>\n",
       "      <td>teacher</td>\n",
       "      <td>[1.2277565, -1.5641882, 0.4299565, 0.97194993,...</td>\n",
       "    </tr>\n",
       "    <tr>\n",
       "      <th>48</th>\n",
       "      <td>Morgan_Freeman</td>\n",
       "      <td>teacher</td>\n",
       "      <td>[-0.26069024, 0.020205945, -0.41906506, 1.6750...</td>\n",
       "    </tr>\n",
       "    <tr>\n",
       "      <th>49</th>\n",
       "      <td>Morgan_Freeman</td>\n",
       "      <td>teacher</td>\n",
       "      <td>[0.42457733, -1.3476063, -0.6581383, 1.7241502...</td>\n",
       "    </tr>\n",
       "  </tbody>\n",
       "</table>\n",
       "</div>"
      ],
      "text/plain": [
       "              Name     Role                                    Facial Features\n",
       "45  Morgan_Freeman  teacher  [-0.27514642, -0.275059, -0.8417722, 1.2798201...\n",
       "46  Morgan_Freeman  teacher  [0.7716732, -0.6371075, 0.1712926, 0.55135304,...\n",
       "47  Morgan_Freeman  teacher  [1.2277565, -1.5641882, 0.4299565, 0.97194993,...\n",
       "48  Morgan_Freeman  teacher  [-0.26069024, 0.020205945, -0.41906506, 1.6750...\n",
       "49  Morgan_Freeman  teacher  [0.42457733, -1.3476063, -0.6581383, 1.7241502..."
      ]
     },
     "execution_count": 49,
     "metadata": {},
     "output_type": "execute_result"
    }
   ],
   "source": [
    "df.tail(5)"
   ]
  },
  {
   "cell_type": "code",
   "execution_count": null,
   "id": "0f71d1ff",
   "metadata": {},
   "outputs": [],
   "source": [
    " "
   ]
  }
 ],
 "metadata": {
  "kernelspec": {
   "display_name": "Python 3 (ipykernel)",
   "language": "python",
   "name": "python3"
  },
  "language_info": {
   "codemirror_mode": {
    "name": "ipython",
    "version": 3
   },
   "file_extension": ".py",
   "mimetype": "text/x-python",
   "name": "python",
   "nbconvert_exporter": "python",
   "pygments_lexer": "ipython3",
   "version": "3.11.5"
  }
 },
 "nbformat": 4,
 "nbformat_minor": 5
}
