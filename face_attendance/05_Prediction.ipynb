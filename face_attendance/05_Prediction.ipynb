{
 "cells": [
  {
   "cell_type": "code",
   "execution_count": 82,
   "id": "29e3416e",
   "metadata": {},
   "outputs": [],
   "source": [
    "import recognition_helper as helper\n",
    "import pandas as pd\n",
    "import numpy as np\n",
    "import cv2"
   ]
  },
  {
   "cell_type": "code",
   "execution_count": 83,
   "id": "a45d0da4",
   "metadata": {},
   "outputs": [
    {
     "data": {
      "text/plain": [
       "True"
      ]
     },
     "execution_count": 83,
     "metadata": {},
     "output_type": "execute_result"
    }
   ],
   "source": [
    "helper.r.ping()"
   ]
  },
  {
   "cell_type": "code",
   "execution_count": 84,
   "id": "f02a0443",
   "metadata": {},
   "outputs": [
    {
     "name": "stdout",
     "output_type": "stream",
     "text": [
      "Key 'Umesh Khatiwada#2' does not exist in the database.\n"
     ]
    }
   ],
   "source": [
    "key_to_delete = 'Umesh Khatiwada#2'\n",
    "deleted_count = helper.r.delete(key_to_delete)\n",
    "# Check if the key was deleted\n",
    "if deleted_count == 1:\n",
    "    print(f\"Key '{key_to_delete}' was successfully deleted.\")\n",
    "elif deleted_count == 0:\n",
    "    print(f\"Key '{key_to_delete}' does not exist in the database.\")\n",
    "else:\n",
    "    print(\"An error occurred while deleting the key.\")"
   ]
  },
  {
   "cell_type": "code",
   "execution_count": 85,
   "id": "fb184481",
   "metadata": {},
   "outputs": [],
   "source": [
    "## step 1: extract data from database"
   ]
  },
  {
   "cell_type": "code",
   "execution_count": 86,
   "id": "6b67dffc",
   "metadata": {},
   "outputs": [],
   "source": [
    "hash_name = 'school:register'"
   ]
  },
  {
   "cell_type": "code",
   "execution_count": 94,
   "id": "c4c92d4b",
   "metadata": {},
   "outputs": [
    {
     "data": {
      "text/html": [
       "<div>\n",
       "<style scoped>\n",
       "    .dataframe tbody tr th:only-of-type {\n",
       "        vertical-align: middle;\n",
       "    }\n",
       "\n",
       "    .dataframe tbody tr th {\n",
       "        vertical-align: top;\n",
       "    }\n",
       "\n",
       "    .dataframe thead th {\n",
       "        text-align: right;\n",
       "    }\n",
       "</style>\n",
       "<table border=\"1\" class=\"dataframe\">\n",
       "  <thead>\n",
       "    <tr style=\"text-align: right;\">\n",
       "      <th></th>\n",
       "      <th>name_role</th>\n",
       "      <th>Facial Features</th>\n",
       "      <th>Name</th>\n",
       "      <th>Role</th>\n",
       "    </tr>\n",
       "  </thead>\n",
       "  <tbody>\n",
       "    <tr>\n",
       "      <th>0</th>\n",
       "      <td>Chris_Evans#student</td>\n",
       "      <td>[0.7200426, -1.4685223, -0.7779212, -1.460148,...</td>\n",
       "      <td>Chris Evans</td>\n",
       "      <td>Student</td>\n",
       "    </tr>\n",
       "    <tr>\n",
       "      <th>1</th>\n",
       "      <td>Morgan_Freeman#teacher</td>\n",
       "      <td>[0.48528442, -0.619405, -0.4070305, 1.0686811,...</td>\n",
       "      <td>Morgan Freeman</td>\n",
       "      <td>Teacher</td>\n",
       "    </tr>\n",
       "    <tr>\n",
       "      <th>2</th>\n",
       "      <td>umesh_khatiwada#student</td>\n",
       "      <td>[-0.06068934, 1.186499, 1.0322479, 0.8512557, ...</td>\n",
       "      <td>Umesh Khatiwada</td>\n",
       "      <td>Student</td>\n",
       "    </tr>\n",
       "    <tr>\n",
       "      <th>3</th>\n",
       "      <td>Scarlett Johansson#student</td>\n",
       "      <td>[0.19131908, -0.48838148, -1.690325, 0.4423288...</td>\n",
       "      <td>Scarlett johansson</td>\n",
       "      <td>Student</td>\n",
       "    </tr>\n",
       "    <tr>\n",
       "      <th>4</th>\n",
       "      <td>Angelina Jolie#student</td>\n",
       "      <td>[0.43239492, 1.0748208, -0.12874822, -1.833274...</td>\n",
       "      <td>Angelina jolie</td>\n",
       "      <td>Student</td>\n",
       "    </tr>\n",
       "  </tbody>\n",
       "</table>\n",
       "</div>"
      ],
      "text/plain": [
       "                    name_role  \\\n",
       "0         Chris_Evans#student   \n",
       "1      Morgan_Freeman#teacher   \n",
       "2     umesh_khatiwada#student   \n",
       "3  Scarlett Johansson#student   \n",
       "4      Angelina Jolie#student   \n",
       "\n",
       "                                     Facial Features                Name  \\\n",
       "0  [0.7200426, -1.4685223, -0.7779212, -1.460148,...         Chris Evans   \n",
       "1  [0.48528442, -0.619405, -0.4070305, 1.0686811,...      Morgan Freeman   \n",
       "2  [-0.06068934, 1.186499, 1.0322479, 0.8512557, ...     Umesh Khatiwada   \n",
       "3  [0.19131908, -0.48838148, -1.690325, 0.4423288...  Scarlett johansson   \n",
       "4  [0.43239492, 1.0748208, -0.12874822, -1.833274...      Angelina jolie   \n",
       "\n",
       "      Role  \n",
       "0  Student  \n",
       "1  Teacher  \n",
       "2  Student  \n",
       "3  Student  \n",
       "4  Student  "
      ]
     },
     "execution_count": 94,
     "metadata": {},
     "output_type": "execute_result"
    }
   ],
   "source": [
    "decoded_dictionary = helper.r.hgetall(name='school:register')\n",
    "decoded_series = pd.Series(decoded_dictionary)\n",
    "decoded_series\n",
    "# Convert each element of retrive_series from bytes to 32-bit float NumPy arrays\n",
    "decoded_series = decoded_series.apply(lambda x: np.frombuffer(x, dtype=np.float32))\n",
    "\n",
    "# Retrieve the index of retrive_series\n",
    "index = decoded_series.index\n",
    "\n",
    "# Convert the index elements from bytes to strings\n",
    "index = list(map(lambda x: x.decode(), index))\n",
    "decoded_series.index = index\n",
    "decoded_df = decoded_series.to_frame().reset_index()\n",
    "decoded_df.columns = ['name_role', 'facial_features']\n",
    "decoded_df.rename(columns={'facial_features':'Facial Features'}, inplace= True)\n",
    "# Split by '#' and create a new DataFrame with two columns 'Name' and 'Role'\n",
    "temp_df = decoded_df['name_role'].str.split('#', expand=True)\n",
    "\n",
    "# Split each part by '_' and capitalize each word\n",
    "decoded_df[['Name', 'Role']] = temp_df.applymap(lambda x: ' '.join([word.capitalize() for word in x.split('_')]))\n",
    "\n",
    "decoded_df\n",
    "\n"
   ]
  },
  {
   "cell_type": "code",
   "execution_count": 88,
   "id": "56dc7880",
   "metadata": {},
   "outputs": [],
   "source": [
    "## Get Realtime prediction"
   ]
  },
  {
   "cell_type": "code",
   "execution_count": 89,
   "id": "eda81d3e",
   "metadata": {},
   "outputs": [],
   "source": [
    "# define a video capture object \n",
    "vid = cv2.VideoCapture(0) \n",
    "while(True): \n",
    "      \n",
    "       \n",
    "    # Capture the video frame by frame \n",
    "    ret, frame = vid.read() \n",
    "    \n",
    "    if ret == False:\n",
    "        print(\"Unable to read camera\")\n",
    "        break\n",
    "    \n",
    "    predicted_frame = helper.name_prediction(frame, decoded_df)\n",
    "    \n",
    "    # Display the resulting frame \n",
    "#     cv2.imshow('frame', frame) \n",
    "     # Display the predict frame \n",
    "    cv2.imshow('prediction_frame', predicted_frame) \n",
    "    \n",
    "    # the 'q' button is set as the \n",
    "    # quitting button you may use any \n",
    "    # desired button of your choice \n",
    "    if cv2.waitKey(1) == ord('i'): \n",
    "        break\n",
    "  \n",
    "# After the loop release the cap object \n",
    "vid.release() \n",
    "# Destroy all the windows \n",
    "cv2.destroyAllWindows()"
   ]
  }
 ],
 "metadata": {
  "kernelspec": {
   "display_name": "Python 3 (ipykernel)",
   "language": "python",
   "name": "python3"
  },
  "language_info": {
   "codemirror_mode": {
    "name": "ipython",
    "version": 3
   },
   "file_extension": ".py",
   "mimetype": "text/x-python",
   "name": "python",
   "nbconvert_exporter": "python",
   "pygments_lexer": "ipython3",
   "version": "3.11.5"
  }
 },
 "nbformat": 4,
 "nbformat_minor": 5
}
