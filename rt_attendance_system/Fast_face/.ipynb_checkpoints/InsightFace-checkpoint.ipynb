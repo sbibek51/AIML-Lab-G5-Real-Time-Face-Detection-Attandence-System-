{
 "cells": [
  {
   "cell_type": "code",
   "execution_count": 3,
   "id": "b405a117",
   "metadata": {},
   "outputs": [],
   "source": [
    "import numpy as np\n",
    "import cv2\n",
    "import insightface\n",
    "from insightface.app import FaceAnalysis\n",
    "from insightface.data import get_image as ins_get_image"
   ]
  },
  {
   "cell_type": "markdown",
   "id": "f172df2e",
   "metadata": {},
   "source": [
    "# Insightface Configuration"
   ]
  },
  {
   "cell_type": "code",
   "execution_count": 4,
   "id": "6dc12777",
   "metadata": {},
   "outputs": [
    {
     "name": "stdout",
     "output_type": "stream",
     "text": [
      "Applied providers: ['CPUExecutionProvider'], with options: {'CPUExecutionProvider': {}}\n",
      "find model: C:\\Users\\umesh/.insightface\\models\\buffalo_l\\1k3d68.onnx landmark_3d_68 ['None', 3, 192, 192] 0.0 1.0\n",
      "Applied providers: ['CPUExecutionProvider'], with options: {'CPUExecutionProvider': {}}\n",
      "find model: C:\\Users\\umesh/.insightface\\models\\buffalo_l\\2d106det.onnx landmark_2d_106 ['None', 3, 192, 192] 0.0 1.0\n",
      "Applied providers: ['CPUExecutionProvider'], with options: {'CPUExecutionProvider': {}}\n",
      "find model: C:\\Users\\umesh/.insightface\\models\\buffalo_l\\det_10g.onnx detection [1, 3, '?', '?'] 127.5 128.0\n",
      "Applied providers: ['CPUExecutionProvider'], with options: {'CPUExecutionProvider': {}}\n",
      "find model: C:\\Users\\umesh/.insightface\\models\\buffalo_l\\genderage.onnx genderage ['None', 3, 96, 96] 0.0 1.0\n",
      "Applied providers: ['CPUExecutionProvider'], with options: {'CPUExecutionProvider': {}}\n",
      "find model: C:\\Users\\umesh/.insightface\\models\\buffalo_l\\w600k_r50.onnx recognition ['None', 3, 112, 112] 127.5 127.5\n",
      "set det-size: (640, 640)\n"
     ]
    }
   ],
   "source": [
    "model_pack_name = 'buffalo_sc'\n",
    "app_l = FaceAnalysis(name='buffalo_l',providers=['CPUExecutionProvider'])\n",
    "app_l.prepare(ctx_id=0,det_size=(640,640))"
   ]
  },
  {
   "cell_type": "code",
   "execution_count": 6,
   "id": "aafefcc2",
   "metadata": {},
   "outputs": [
    {
     "name": "stdout",
     "output_type": "stream",
     "text": [
      "<insightface.app.face_analysis.FaceAnalysis object at 0x000002098847D8D0>\n"
     ]
    }
   ],
   "source": [
    "print(app_l)"
   ]
  },
  {
   "cell_type": "code",
   "execution_count": null,
   "id": "83c97900",
   "metadata": {},
   "outputs": [],
   "source": [
    "app_sc = FaceAnalysis(name='buffalo_sc',providers=['CPUExecutionProvider'])\n",
    "app_sc.prepare(ctx_id=0,det_size=(640,640))"
   ]
  },
  {
   "cell_type": "code",
   "execution_count": null,
   "id": "b14e21e5",
   "metadata": {},
   "outputs": [],
   "source": []
  }
 ],
 "metadata": {
  "kernelspec": {
   "display_name": "Python 3 (ipykernel)",
   "language": "python",
   "name": "python3"
  },
  "language_info": {
   "codemirror_mode": {
    "name": "ipython",
    "version": 3
   },
   "file_extension": ".py",
   "mimetype": "text/x-python",
   "name": "python",
   "nbconvert_exporter": "python",
   "pygments_lexer": "ipython3",
   "version": "3.11.5"
  }
 },
 "nbformat": 4,
 "nbformat_minor": 5
}
